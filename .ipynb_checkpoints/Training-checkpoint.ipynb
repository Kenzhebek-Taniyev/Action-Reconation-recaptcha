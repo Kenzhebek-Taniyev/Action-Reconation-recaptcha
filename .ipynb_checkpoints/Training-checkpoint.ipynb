{
 "cells": [
  {
   "cell_type": "code",
   "execution_count": 4,
   "id": "1a4a5b01",
   "metadata": {},
   "outputs": [
    {
     "data": {
      "text/plain": [
       "array(['climb', 'cry', 'drink', 'eat', 'fall', 'give', 'jump', 'kick',\n",
       "       'look', 'push', 'run', 'sit', 'sleep', 'wait', 'walk', 'wash'],\n",
       "      dtype='<U5')"
      ]
     },
     "execution_count": 4,
     "metadata": {},
     "output_type": "execute_result"
    }
   ],
   "source": [
    "from collections import Counter\n",
    "import mediapipe as mp\n",
    "import cv2\n",
    "import numpy as np\n",
    "import os\n",
    "import tensorflow as tf\n",
    "\n",
    "model = tf.keras.models.load_model('action_16_classes_3.h5')\n",
    "classes = np.array([clas[:-4] for clas in os.listdir('types of actions')]) \n",
    "holistic = mp.solutions.holistic\n",
    "\n",
    "PATH = os.path.join('Dataset')\n",
    "path_action_types = 'types of actions'\n",
    "\n",
    "# Classes\n",
    "classes = np.array([clas[:-4] for clas in os.listdir(path_action_types)]) \n",
    "\n",
    "# Number of videos per action\n",
    "num_of_sequences = 50\n",
    "\n",
    "# Number of frames per video\n",
    "len_sequence = 30\n",
    "classes"
   ]
  },
  {
   "cell_type": "code",
   "execution_count": 5,
   "id": "71c52f2a",
   "metadata": {},
   "outputs": [],
   "source": [
    "frames, labels = [], []\n",
    "\n",
    "# Get dataset back\n",
    "for i, clas in enumerate(classes):\n",
    "    for cut in range(num_of_sequences):\n",
    "        video = []\n",
    "        \n",
    "        for frame in range(len_sequence):\n",
    "            res = np.load(os.path.join(PATH, clas, str(cut), f\"{frame}.npy\"))\n",
    "            video.append(res)\n",
    "        frames.append(video)\n",
    "        labels.append(i)"
   ]
  },
  {
   "cell_type": "code",
   "execution_count": 6,
   "id": "6da25d81",
   "metadata": {},
   "outputs": [],
   "source": [
    "from tensorflow.keras.utils import to_categorical\n",
    "\n",
    "X = np.array(frames)\n",
    "y = to_categorical(labels).astype(int)  # Convert to binary class matrix"
   ]
  },
  {
   "cell_type": "code",
   "execution_count": 7,
   "id": "d95a106c",
   "metadata": {},
   "outputs": [],
   "source": [
    "from sklearn.model_selection import train_test_split\n",
    "\n",
    "# Divide into train, test, and validation parts\n",
    "X_train, X_test, y_train, y_test = train_test_split(X, y, test_size=0.1, shuffle=True)\n",
    "X_train, X_valid, y_train, y_valid = train_test_split(X_train, y_train, test_size=0.1, shuffle=True)"
   ]
  },
  {
   "cell_type": "markdown",
   "id": "82b24d1b",
   "metadata": {},
   "source": [
    "# Training the Model"
   ]
  },
  {
   "cell_type": "code",
   "execution_count": 8,
   "id": "9a445208",
   "metadata": {},
   "outputs": [],
   "source": [
    "import tensorflow as tf\n",
    "from tensorflow.keras.models import Sequential\n",
    "from tensorflow.keras.layers import Dense, Dropout, LSTM\n",
    "from tensorflow.keras.callbacks import TensorBoard\n",
    "from tensorflow.keras.optimizers import Adam"
   ]
  },
  {
   "cell_type": "code",
   "execution_count": 9,
   "id": "35f405ee",
   "metadata": {},
   "outputs": [],
   "source": [
    "# Hyperparameters\n",
    "callbacks = [TensorBoard(log_dir='Logs')]\n",
    "epochs = 1000\n",
    "validation_data = (X_valid, y_valid)"
   ]
  },
  {
   "cell_type": "code",
   "execution_count": 11,
   "id": "078c2f1e",
   "metadata": {},
   "outputs": [],
   "source": [
    "model = Sequential([\n",
    "    LSTM(128, return_sequences=True, activation='relu', input_shape=(30, 1662)),\n",
    "    LSTM(256, return_sequences=True, activation='relu'),\n",
    "    LSTM(128, return_sequences=False, activation='relu'),\n",
    "    Dense(64, activation='relu'),\n",
    "    Dropout(0.4),\n",
    "    Dense(32, activation='relu'),\n",
    "    Dropout(0.2),\n",
    "    Dense(16, activation='softmax')\n",
    "])"
   ]
  },
  {
   "cell_type": "code",
   "execution_count": 12,
   "id": "b9762ee4",
   "metadata": {},
   "outputs": [
    {
     "name": "stdout",
     "output_type": "stream",
     "text": [
      "Model: \"sequential_1\"\n",
      "_________________________________________________________________\n",
      " Layer (type)                Output Shape              Param #   \n",
      "=================================================================\n",
      " lstm_3 (LSTM)               (None, 30, 128)           916992    \n",
      "                                                                 \n",
      " lstm_4 (LSTM)               (None, 30, 256)           394240    \n",
      "                                                                 \n",
      " lstm_5 (LSTM)               (None, 128)               197120    \n",
      "                                                                 \n",
      " dense_3 (Dense)             (None, 64)                8256      \n",
      "                                                                 \n",
      " dropout_2 (Dropout)         (None, 64)                0         \n",
      "                                                                 \n",
      " dense_4 (Dense)             (None, 32)                2080      \n",
      "                                                                 \n",
      " dropout_3 (Dropout)         (None, 32)                0         \n",
      "                                                                 \n",
      " dense_5 (Dense)             (None, 16)                528       \n",
      "                                                                 \n",
      "=================================================================\n",
      "Total params: 1,519,216\n",
      "Trainable params: 1,519,216\n",
      "Non-trainable params: 0\n",
      "_________________________________________________________________\n"
     ]
    }
   ],
   "source": [
    "model.summary()"
   ]
  },
  {
   "cell_type": "code",
   "execution_count": 13,
   "id": "b37d2424",
   "metadata": {},
   "outputs": [],
   "source": [
    "model.compile(optimizer=Adam(learning_rate=1e-06), loss='categorical_crossentropy', metrics=['categorical_accuracy'])"
   ]
  },
  {
   "cell_type": "code",
   "execution_count": 15,
   "id": "3c21c3cb",
   "metadata": {},
   "outputs": [],
   "source": [
    "history = model.fit(X_train, y_train, epochs=epochs, callbacks=callbacks, validation_data=validation_data)"
   ]
  },
  {
   "cell_type": "code",
   "execution_count": 17,
   "id": "c6c4104a",
   "metadata": {
    "scrolled": true
   },
   "outputs": [
    {
     "name": "stdout",
     "output_type": "stream",
     "text": [
      "sleep sleep\n",
      "look look\n",
      "eat eat\n",
      "drink drink\n",
      "give give\n",
      "wash wash\n",
      "sleep run\n",
      "push push\n",
      "jump run\n",
      "fall fall\n",
      "sleep wait\n",
      "wait wait\n",
      "climb climb\n",
      "wait wait\n",
      "sleep run\n",
      "walk walk\n",
      "give give\n",
      "wash wash\n",
      "climb climb\n",
      "wait wait\n",
      "walk walk\n",
      "eat climb\n",
      "look look\n",
      "look look\n",
      "climb climb\n",
      "push push\n",
      "wash wash\n",
      "walk walk\n",
      "give give\n",
      "drink drink\n",
      "jump jump\n",
      "wash run\n",
      "push push\n",
      "walk walk\n",
      "jump give\n",
      "jump run\n",
      "jump jump\n",
      "drink drink\n",
      "wait wait\n",
      "climb push\n",
      "kick kick\n",
      "jump jump\n",
      "give give\n",
      "run run\n",
      "sit sit\n",
      "give run\n",
      "wash wash\n",
      "drink drink\n",
      "sit sit\n",
      "jump jump\n",
      "fall fall\n",
      "eat eat\n",
      "climb climb\n",
      "wait wait\n",
      "jump give\n",
      "sleep sleep\n",
      "drink drink\n",
      "wash wash\n",
      "eat eat\n",
      "drink drink\n",
      "wash wash\n",
      "look look\n",
      "jump jump\n",
      "eat eat\n",
      "fall fall\n",
      "give run\n",
      "climb climb\n",
      "wait wait\n",
      "kick kick\n",
      "sleep sleep\n",
      "look look\n",
      "eat eat\n",
      "look look\n",
      "jump jump\n",
      "walk walk\n",
      "walk walk\n",
      "wait wait\n",
      "sit sit\n",
      "climb climb\n",
      "cry cry\n"
     ]
    }
   ],
   "source": [
    "y_pred = model.predict(X_test)\n",
    "\n",
    "# Checking predictions manually\n",
    "for pred, test in zip(y_pred, y_test):\n",
    "    print(classes[np.argmax(pred)], classes[np.argmax(test)])"
   ]
  },
  {
   "cell_type": "code",
   "execution_count": 18,
   "id": "ca5ddc0f",
   "metadata": {},
   "outputs": [
    {
     "name": "stdout",
     "output_type": "stream",
     "text": [
      "              precision    recall  f1-score   support\n",
      "\n",
      "           0       0.86      0.86      0.86         7\n",
      "           1       1.00      1.00      1.00         1\n",
      "           2       1.00      1.00      1.00         6\n",
      "           3       0.83      1.00      0.91         5\n",
      "           4       1.00      1.00      1.00         3\n",
      "           5       0.67      0.67      0.67         6\n",
      "           6       0.60      1.00      0.75         6\n",
      "           7       1.00      1.00      1.00         2\n",
      "           8       1.00      1.00      1.00         6\n",
      "           9       1.00      0.75      0.86         4\n",
      "          10       1.00      0.12      0.22         8\n",
      "          11       1.00      1.00      1.00         3\n",
      "          12       0.50      1.00      0.67         3\n",
      "          13       1.00      0.88      0.93         8\n",
      "          14       1.00      1.00      1.00         6\n",
      "          15       0.86      1.00      0.92         6\n",
      "\n",
      "    accuracy                           0.85        80\n",
      "   macro avg       0.89      0.89      0.86        80\n",
      "weighted avg       0.89      0.85      0.83        80\n",
      "\n"
     ]
    },
    {
     "data": {
      "image/png": "[encoded data removed]",
      "text/plain": [
       "<Figure size 288x288 with 2 Axes>"
      ]
     },
     "metadata": {
      "needs_background": "light"
     },
     "output_type": "display_data"
    }
   ],
   "source": [
    "from sklearn.metrics import classification_report\n",
    "from matplotlib import pyplot as plt\n",
    "import warnings\n",
    "\n",
    "warnings.filterwarnings('ignore')                     # Got annoying Warnings about f1-score==0.00\n",
    "\n",
    "y_pred = model.predict(X_test)\n",
    "pred_labels = []\n",
    "test_y = []\n",
    "\n",
    "for pred, test in zip(y_pred, y_test):\n",
    "    pred_labels.append(np.argmax(pred))\n",
    "    test_y.append(np.argmax(test))\n",
    "    \n",
    "\n",
    "cf = tf.math.confusion_matrix(test_y, pred_labels)\n",
    "plt.matshow(cf, cmap='magma')\n",
    "plt.colorbar()\n",
    "\n",
    "plt.clim(0, None)\n",
    "\n",
    "print(classification_report(test_y, pred_labels))"
   ]
  },
  {
   "cell_type": "code",
   "execution_count": 19,
   "id": "64c3c1a0",
   "metadata": {},
   "outputs": [],
   "source": [
    "# Saving the model\n",
    "model.save(os.path.join('models', 'action_16_classes_new.h5'))"
   ]
  }
 ],
 "metadata": {
  "kernelspec": {
   "display_name": "Python 3 (ipykernel)",
   "language": "python",
   "name": "python3"
  },
  "language_info": {
   "codemirror_mode": {
    "name": "ipython",
    "version": 3
   },
   "file_extension": ".py",
   "mimetype": "text/x-python",
   "name": "python",
   "nbconvert_exporter": "python",
   "pygments_lexer": "ipython3",
   "version": "3.9.7"
  }
 },
 "nbformat": 4,
 "nbformat_minor": 5
}
