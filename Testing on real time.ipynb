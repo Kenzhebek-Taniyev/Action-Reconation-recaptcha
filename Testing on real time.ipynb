{
 "cells": [
  {
   "cell_type": "code",
   "execution_count": 2,
   "id": "064e2f36",
   "metadata": {},
   "outputs": [],
   "source": [
    "from extract import mediapipe_landmarks\n",
    "import mediapipe as mp\n",
    "import cv2\n",
    "import numpy as np\n",
    "import os\n",
    "import tensorflow as tf\n",
    "import random\n",
    "from collections import Counter\n",
    "\n",
    "model = tf.keras.models.load_model(os.path.join('models', 'action_16_classes_3.h5'))\n",
    "classes = np.array([clas[:-4] for clas in os.listdir('types of actions')]) \n",
    "holistic = mp.solutions.holistic\n",
    "cut = [np.zeros((1662, )) for _ in range(30)]                            # Remember last 30 frames to predict"
   ]
  },
  {
   "cell_type": "code",
   "execution_count": 9,
   "id": "eb517bcc",
   "metadata": {},
   "outputs": [
    {
     "name": "stdout",
     "output_type": "stream",
     "text": [
      "[9, 3, 1, 14, 6]\n",
      "All test cases successfully passed.\n"
     ]
    }
   ],
   "source": [
    "# Creating test case\n",
    "case = random.randint(0, len(classes)-1)\n",
    "test_case = [case]\n",
    "for _ in range(4):\n",
    "    while test_case[-1] == case:\n",
    "        case = random.randint(0, len(classes)-1)\n",
    "    test_case.append(case)\n",
    "print(test_case)\n",
    "test_pass = True\n",
    "\n",
    "# Starts reading your face\n",
    "cap = cv2.VideoCapture(0)\n",
    "with holistic.Holistic(min_detection_confidence=0.5, min_tracking_confidence=0.5) as mp:\n",
    "    while cap.isOpened():\n",
    "        if not test_case:                                                # Pops the test case if is done, and breaks at the end (also ending the program)\n",
    "            break\n",
    "        if test_pass:\n",
    "            case = test_case.pop()\n",
    "            test_pass = False\n",
    "        \n",
    "        _, frame = cap.read()\n",
    "        image, landmarks = mediapipe_landmarks(frame, mp)                # again, get keypoints\n",
    "        \n",
    "        cut.append(landmarks)\n",
    "        cut = cut[-30:]                                                  # Keep only last 30 frames\n",
    "\n",
    "        res = model.predict(np.expand_dims(cut, axis=0))[0]\n",
    "        \n",
    "        if res[np.argmax(res)] > 0.2 and np.argmax(res) == case:         # Check if satisfies the test case\n",
    "            test_pass = True\n",
    "\n",
    "            \n",
    "#         put probability table        \n",
    "        for num, prob in enumerate(res):\n",
    "            cv2.rectangle(image, (0, 60+num*25), (int(prob*100), 90+num*25), (24, 17, 166), -1)\n",
    "            cv2.putText(image, classes[num], (0, 85+num*25), cv2.FONT_HERSHEY_SIMPLEX, 0.5, (0, 255, 255), 1, cv2.LINE_AA)\n",
    "\n",
    "#         How many of tests are passed\n",
    "        cv2.putText(image, classes[case], (540, 200),\n",
    "                   cv2.FONT_HERSHEY_SIMPLEX, 1, (0, 255, 255), 2, cv2.LINE_AA)\n",
    "        cv2.putText(image, f'{4-len(test_case)} of 4 is passed', (350, 90),\n",
    "                   cv2.FONT_HERSHEY_SIMPLEX, 1, (0, 255, 255), 2, cv2.LINE_AA)\n",
    "        \n",
    "#         Putting tutorial image to right bottom\n",
    "        tutorial_image = os.path.join('types of actions', classes[case]+'.png')\n",
    "        tutorial_image = cv2.imread(tutorial_image, cv2.IMREAD_COLOR)\n",
    "        tutorial_image = cv2.resize(tutorial_image, (150, 120))\n",
    "        h, w, _ = tutorial_image.shape\n",
    "        image[360:h+360, 490:w+490] = tutorial_image\n",
    "        \n",
    "        cv2.imshow('OpenCV Feed', image)\n",
    "               \n",
    "        if cv2.waitKey(10) & 0xFF == ord('q'):\n",
    "            break\n",
    "\n",
    "    cap.release()                # Illuminates are watching\n",
    "    cv2.destroyAllWindows()\n",
    "    \n",
    "print('All test cases successfully passed.')"
   ]
  },
  {
   "cell_type": "code",
   "execution_count": 4,
   "id": "bdf67fa4",
   "metadata": {},
   "outputs": [],
   "source": [
    "cap.release()\n",
    "cv2.destroyAllWindows()"
   ]
  }
 ],
 "metadata": {
  "kernelspec": {
   "display_name": "Python 3 (ipykernel)",
   "language": "python",
   "name": "python3"
  },
  "language_info": {
   "codemirror_mode": {
    "name": "ipython",
    "version": 3
   },
   "file_extension": ".py",
   "mimetype": "text/x-python",
   "name": "python",
   "nbconvert_exporter": "python",
   "pygments_lexer": "ipython3",
   "version": "3.9.7"
  }
 },
 "nbformat": 4,
 "nbformat_minor": 5
}
